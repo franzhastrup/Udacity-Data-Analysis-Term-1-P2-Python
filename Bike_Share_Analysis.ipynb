{
 "cells": [
  {
   "cell_type": "markdown",
   "metadata": {},
   "source": [
    "# 2016 US Bike Share Activity Analysis\n",
    "\n",
    "## Table of Contents\n",
    "- [Introduction](#intro)\n",
    "- [Posing Questions](#pose_questions)\n",
    "- [Data Collection and Wrangling](#wrangling)\n",
    "  - [Condensing the Trip Data](#condensing)\n",
    "- [Exploratory Data Analysis](#eda)\n",
    "  - [Statistics](#statistics)\n",
    "  - [Visualizations](#visualizations)\n",
    "- [Performing Your Own Analysis](#eda_continued)\n",
    "- [Conclusions](#conclusions)\n",
    "\n",
    "<a id='intro'></a>\n",
    "## Introduction\n",
    "\n",
    "Over the past decade, bicycle-sharing systems have been growing in number and popularity in cities across the world. Bicycle-sharing systems allow users to rent bicycles for short trips, typically 30 minutes or less. Thanks to the rise in information technologies, it is easy for a user of the system to access a dock within the system to unlock or return bicycles. These technologies also provide a wealth of data that can be used to explore how these bike-sharing systems are used.\n",
    "\n",
    "This project performs an exploratory analysis on data provided by [Motivate](https://www.motivateco.com/), a bike-share system provider for many major cities in the United States. The system usage is compared between three large cities: New York City, Chicago, and Washington, DC. Several differences within each system are identified for those users that are registered, regular users and those users that are short-term, casual users."
   ]
  },
  {
   "cell_type": "markdown",
   "metadata": {},
   "source": [
    "<a id='pose_questions'></a>\n",
    "## Posing Questions\n",
    "\n",
    "**Questions**:  \n",
    "            What kind of users actually use bike sharing?  \n",
    "            How often does the average customer use bike sharing?  \n",
    "            How should the pricing be to make money?    "
   ]
  },
  {
   "cell_type": "markdown",
   "metadata": {},
   "source": [
    "<a id='wrangling'></a>\n",
    "## Data Collection and Wrangling\n",
    "\n",
    "This project focuses on the record of individual trips taken in 2016 from the selected cities: New York City, Chicago, and Washington, DC. Each of these cities has a page, where the trip data can be freely downloaded:\n",
    "\n",
    "- New York City (Citi Bike): [Link](https://www.citibikenyc.com/system-data)\n",
    "- Chicago (Divvy): [Link](https://www.divvybikes.com/system-data)\n",
    "- Washington, DC (Capital Bikeshare): [Link](https://www.capitalbikeshare.com/system-data)\n",
    "\n",
    "Each city has a different way of delivering its data. Chicago updates with new data twice a year, Washington DC is quarterly, and New York City is monthly.  \n",
    "\n",
    "Each of the cities are investigated. Firstly the first trip recorded from each of the cities is printed out."
   ]
  },
  {
   "cell_type": "code",
   "execution_count": 1,
   "metadata": {},
   "outputs": [],
   "source": [
    "## import all necessary packages and functions.\n",
    "import csv # read and write csv files\n",
    "from datetime import datetime # operations to parse dates\n",
    "from pprint import pprint # use to print data structures like dictionaries in\n",
    "                          # a nicer way than the base print function."
   ]
  },
  {
   "cell_type": "code",
   "execution_count": 2,
   "metadata": {
    "scrolled": true
   },
   "outputs": [
    {
     "name": "stdout",
     "output_type": "stream",
     "text": [
      "\n",
      "City: NYC\n",
      "OrderedDict([('tripduration', '839'),\n",
      "             ('starttime', '1/1/2016 00:09:55'),\n",
      "             ('stoptime', '1/1/2016 00:23:54'),\n",
      "             ('start station id', '532'),\n",
      "             ('start station name', 'S 5 Pl & S 4 St'),\n",
      "             ('start station latitude', '40.710451'),\n",
      "             ('start station longitude', '-73.960876'),\n",
      "             ('end station id', '401'),\n",
      "             ('end station name', 'Allen St & Rivington St'),\n",
      "             ('end station latitude', '40.72019576'),\n",
      "             ('end station longitude', '-73.98997825'),\n",
      "             ('bikeid', '17109'),\n",
      "             ('usertype', 'Customer'),\n",
      "             ('birth year', ''),\n",
      "             ('gender', '0')])\n",
      "\n",
      "City: Chicago\n",
      "OrderedDict([('trip_id', '9080545'),\n",
      "             ('starttime', '3/31/2016 23:30'),\n",
      "             ('stoptime', '3/31/2016 23:46'),\n",
      "             ('bikeid', '2295'),\n",
      "             ('tripduration', '926'),\n",
      "             ('from_station_id', '156'),\n",
      "             ('from_station_name', 'Clark St & Wellington Ave'),\n",
      "             ('to_station_id', '166'),\n",
      "             ('to_station_name', 'Ashland Ave & Wrightwood Ave'),\n",
      "             ('usertype', 'Subscriber'),\n",
      "             ('gender', 'Male'),\n",
      "             ('birthyear', '1990')])\n",
      "\n",
      "City: Washington\n",
      "OrderedDict([('Duration (ms)', '427387'),\n",
      "             ('Start date', '3/31/2016 22:57'),\n",
      "             ('End date', '3/31/2016 23:04'),\n",
      "             ('Start station number', '31602'),\n",
      "             ('Start station', 'Park Rd & Holmead Pl NW'),\n",
      "             ('End station number', '31207'),\n",
      "             ('End station', 'Georgia Ave and Fairmont St NW'),\n",
      "             ('Bike number', 'W20842'),\n",
      "             ('Member Type', 'Registered')])\n"
     ]
    }
   ],
   "source": [
    "def print_first_point(filename):\n",
    "    \"\"\"\n",
    "    This function prints and returns the first data point (second row) from\n",
    "    a csv file that includes a header row.\n",
    "    \"\"\"\n",
    "    # print city name for reference\n",
    "    city = filename.split('-')[0].split('/')[-1]\n",
    "    print('\\nCity: {}'.format(city))\n",
    "    \n",
    "    with open(filename, 'r') as f_in:\n",
    "        ## Uses the csv library to set up a DictReader object. ##\n",
    "        ## see https://docs.python.org/3/library/csv.html           ##\n",
    "        trip_reader = csv.DictReader(f_in)\n",
    "        \n",
    "        ## Uses a function on the DictReader object to read the     ##\n",
    "        ## first trip from the data file and store it in a variable.     ##\n",
    "        ## see https://docs.python.org/3/library/csv.html#reader-objects ##\n",
    "        first_trip = next(trip_reader)\n",
    "        \n",
    "        ## Uses the pprint library to print the first trip. ##\n",
    "        ## see https://docs.python.org/3/library/pprint.html     ##\n",
    "        pprint(first_trip)\n",
    "        \n",
    "    # output city name and first trip for later testing\n",
    "    return (city, first_trip)\n",
    "\n",
    "# list of files for each city\n",
    "#data_files = ['./examples/BayArea-Y3-Summary.csv']\n",
    "data_files = ['./data/NYC-CitiBike-2016.csv',\n",
    "               './data/Chicago-Divvy-2016.csv',\n",
    "               './data/Washington-CapitalBikeshare-2016.csv']\n",
    "\n",
    "# print the first trip from each file, store in dictionary\n",
    "example_trips = {}\n",
    "for data_file in data_files:\n",
    "    city, first_trip = print_first_point(data_file)\n",
    "    example_trips[city] = first_trip"
   ]
  },
  {
   "cell_type": "markdown",
   "metadata": {},
   "source": [
    "Below the printout of each city name (which has been parsed from the data file name) the first trip has been parsed in the form of a dictionary. When setting up the `DictReader` object, the first row of the data file is normally interpreted as column names. Every other row in the data file will use those column names as keys, as a dictionary is generated for each row.\n",
    "\n",
    "This is useful since I will refer to quantities by an easily-understandable label instead of just a numeric index. For example, for a trip stored in the variable `row`, then you would rather get the trip duration from `row['duration']` instead of `row[0]`.\n",
    "\n",
    "<a id='condensing'></a>\n",
    "### Condensing the Trip Data\n",
    "\n",
    "It should also be observable from the above printout that each city provides different information. Even where the information is the same, the column names and formats are sometimes different. To make things as simple as possible for the actual exploration, the data will trimmed and cleaned. Cleaning the data makes sure that the data formats across the cities are consistent, while trimming focuses only on the parts of the data that are most interesting whick makes the exploration easier to work with.\n",
    "\n",
    "New data files are generated with five values of interest for each trip: trip duration, starting month, starting hour, day of the week, and user type. Each of these may require additional wrangling depending on the city:\n",
    "\n",
    "- **Duration**: This has been given in seconds (New York, Chicago) or milliseconds (Washington). A more natural unit of analysis will be if all the trip durations are given in terms of minutes.\n",
    "- **Month**, **Hour**, **Day of Week**: Ridership volume is likely to change based on the season, time of day, and whether it is a weekday or weekend. Start time of the trip is used to obtain these values. The New York City data includes the seconds in their timestamps, while Washington and Chicago do not. The [`datetime`](https://docs.python.org/3/library/datetime.html) package will be very useful here to make the needed conversions.\n",
    "- **User Type**: It is possible that users who are subscribed to a bike-share system will have different patterns of use compared to users who only have temporary passes. Washington divides its users into two types: 'Registered' for users with annual, monthly, and other longer-term subscriptions, and 'Casual', for users with 24-hour, 3-day, and other short-term passes. The New York and Chicago data uses 'Subscriber' and 'Customer' for these groups, respectively. For consistency, these are converted to the Washington labels to match the other two.\n",
    "  \n",
    "  \n",
    "Next some helper functions are created to address each of the cleaning tasks described above."
   ]
  },
  {
   "cell_type": "code",
   "execution_count": 3,
   "metadata": {},
   "outputs": [],
   "source": [
    "def duration_in_mins(datum, city):\n",
    "    \"\"\"\n",
    "    Takes as input a dictionary containing info about a single trip (datum) and\n",
    "    its origin city (city) and returns the trip duration in units of minutes.\n",
    "    \n",
    "    Washington is in terms of milliseconds while Chicago and NYC\n",
    "    are in terms of seconds. \n",
    "    \"\"\"\n",
    "    #Computing the duration time in mins\n",
    "    if (city == 'NYC' or city == 'Chicago'):\n",
    "        duration = float(datum['tripduration'])/60\n",
    "    else:\n",
    "        duration = float(datum['Duration (ms)'])/60/1000\n",
    "    return duration\n",
    "\n",
    "\n",
    "# Some tests to check that the code works. There should be no output if all of\n",
    "# the assertions pass. \n",
    "tests = {'NYC': 13.9833,\n",
    "         'Chicago': 15.4333,\n",
    "         'Washington': 7.1231}\n",
    "\n",
    "for city in tests:\n",
    "    assert abs(duration_in_mins(example_trips[city], city) - tests[city]) < .001"
   ]
  },
  {
   "cell_type": "code",
   "execution_count": 4,
   "metadata": {},
   "outputs": [],
   "source": [
    "def time_of_trip(datum, city):\n",
    "    \"\"\"\n",
    "    Takes as input a dictionary containing info about a single trip (datum) and\n",
    "    its origin city (city) and returns the month, hour, and day of the week in\n",
    "    which the trip was made.\n",
    "    \n",
    "    NYC includes seconds, while Washington and Chicago do not.\n",
    "    \"\"\"\n",
    "    #strptime reads the date in the defined format from the string. Then strftime defines the output format\n",
    "    if city == 'Chicago':\n",
    "        hour = int(datetime.strptime(datum['starttime'],\"%m/%d/%Y %H:%M\").strftime(\"%H\"))\n",
    "        month = int(datetime.strptime(datum['starttime'],\"%m/%d/%Y %H:%M\").strftime(\"%m\"))\n",
    "        day_of_week = datetime.strptime(datum['starttime'],\"%m/%d/%Y %H:%M\").strftime(\"%A\")\n",
    "    elif city == 'Washington':\n",
    "        hour = int(datetime.strptime(datum['Start date'],\"%m/%d/%Y %H:%M\").strftime(\"%H\"))\n",
    "        month = int(datetime.strptime(datum['Start date'],\"%m/%d/%Y %H:%M\").strftime(\"%m\"))\n",
    "        day_of_week = datetime.strptime(datum['Start date'],\"%m/%d/%Y %H:%M\").strftime(\"%A\")\n",
    "    elif city == 'NYC':\n",
    "        hour = int(datetime.strptime(datum['starttime'],\"%m/%d/%Y %H:%M:%S\").strftime(\"%H\"))\n",
    "        month = int(datetime.strptime(datum['starttime'],\"%m/%d/%Y %H:%M:%S\").strftime(\"%m\"))\n",
    "        day_of_week = datetime.strptime(datum['starttime'],\"%m/%d/%Y %H:%M:%S\").strftime(\"%A\")\n",
    "    \n",
    "    return (month, hour, day_of_week)\n",
    "\n",
    "\n",
    "# Some tests to check that the code works. There should be no output if all of\n",
    "# the assertions pass. \n",
    "tests = {'NYC': (1, 0, 'Friday'),\n",
    "         'Chicago': (3, 23, 'Thursday'),\n",
    "         'Washington': (3, 22, 'Thursday')}\n",
    "\n",
    "for city in tests:\n",
    "    time_of_trip(example_trips[city], city)\n",
    "    assert time_of_trip(example_trips[city], city) == tests[city]"
   ]
  },
  {
   "cell_type": "code",
   "execution_count": 5,
   "metadata": {},
   "outputs": [],
   "source": [
    "def type_of_user(datum, city):\n",
    "    \"\"\"\n",
    "    Takes as input a dictionary containing info about a single trip (datum) and\n",
    "    its origin city (city) and returns the type of system user that made the\n",
    "    trip.\n",
    "    \n",
    "    Washington has different category names compared to Chicago\n",
    "    and NYC. \n",
    "    \"\"\"\n",
    "    #Reading user types\n",
    "    if (city == 'NYC' or city == 'Chicago'):\n",
    "        user_type = str(datum['usertype'])\n",
    "    elif city == 'Washington':\n",
    "        user_type = str(datum['Member Type'])\n",
    "            \n",
    "    return user_type\n",
    "\n",
    "\n",
    "# Some tests to check that your code works. There should be no output if all of\n",
    "# the assertions pass. \n",
    "tests = {'NYC': 'Customer',\n",
    "         'Chicago': 'Subscriber',\n",
    "         'Washington': 'Registered'}\n",
    "\n",
    "for city in tests:\n",
    "    assert type_of_user(example_trips[city], city) == tests[city]"
   ]
  },
  {
   "cell_type": "markdown",
   "metadata": {},
   "source": [
    "A condensed data file for each city are created using the helper functions above. "
   ]
  },
  {
   "cell_type": "code",
   "execution_count": 6,
   "metadata": {},
   "outputs": [],
   "source": [
    "def condense_data(in_file, out_file, city):\n",
    "    \"\"\"\n",
    "    This function takes full data from the specified input file\n",
    "    and writes the condensed data to a specified output file. The city\n",
    "    argument determines how the input file will be parsed.\n",
    "    \"\"\"\n",
    "    \n",
    "    with open(out_file, 'w') as f_out, open(in_file, 'r') as f_in:\n",
    "        # set up csv DictWriter object - writer requires column names for the\n",
    "        # first row as the \"fieldnames\" argument\n",
    "        out_colnames = ['duration', 'month', 'hour', 'day_of_week', 'user_type']        \n",
    "        trip_writer = csv.DictWriter(f_out, fieldnames = out_colnames)\n",
    "        trip_writer.writeheader()\n",
    "        \n",
    "        ## csv DictReader object ##\n",
    "        trip_reader = csv.DictReader(f_in)\n",
    "\n",
    "        # collect data from and process each row\n",
    "        for row in trip_reader:\n",
    "            # set up a dictionary to hold the values for the cleaned and trimmed\n",
    "            # data point\n",
    "            new_point = {}\n",
    "\n",
    "            ## uses the helper functions to get the cleaned data from  ##\n",
    "            ## the original data dictionaries.                              ##\n",
    "            new_point['duration'] = duration_in_mins(row, city)\n",
    "            new_point['month'], new_point['hour'], new_point['day_of_week'] = time_of_trip(row, city)\n",
    "            new_point['user_type'] = type_of_user(row, city)\n",
    "\n",
    "            trip_writer.writerow(new_point)            "
   ]
  },
  {
   "cell_type": "code",
   "execution_count": 7,
   "metadata": {},
   "outputs": [
    {
     "name": "stdout",
     "output_type": "stream",
     "text": [
      "\n",
      "City: Washington\n",
      "OrderedDict([('duration', '7.123116666666667'),\n",
      "             ('month', '3'),\n",
      "             ('hour', '22'),\n",
      "             ('day_of_week', 'Thursday'),\n",
      "             ('user_type', 'Registered')])\n",
      "\n",
      "City: Chicago\n",
      "OrderedDict([('duration', '15.433333333333334'),\n",
      "             ('month', '3'),\n",
      "             ('hour', '23'),\n",
      "             ('day_of_week', 'Thursday'),\n",
      "             ('user_type', 'Subscriber')])\n",
      "\n",
      "City: NYC\n",
      "OrderedDict([('duration', '13.983333333333333'),\n",
      "             ('month', '1'),\n",
      "             ('hour', '0'),\n",
      "             ('day_of_week', 'Friday'),\n",
      "             ('user_type', 'Customer')])\n"
     ]
    }
   ],
   "source": [
    "# Checking the work\n",
    "city_info = {'Washington': {'in_file': './data/Washington-CapitalBikeshare-2016.csv',\n",
    "                            'out_file': './data/Washington-2016-Summary.csv'},\n",
    "             'Chicago': {'in_file': './data/Chicago-Divvy-2016.csv',\n",
    "                         'out_file': './data/Chicago-2016-Summary.csv'},\n",
    "             'NYC': {'in_file': './data/NYC-CitiBike-2016.csv',\n",
    "                     'out_file': './data/NYC-2016-Summary.csv'}}\n",
    "\n",
    "for city, filenames in city_info.items():\n",
    "    condense_data(filenames['in_file'], filenames['out_file'], city)\n",
    "    print_first_point(filenames['out_file'])"
   ]
  },
  {
   "cell_type": "markdown",
   "metadata": {},
   "source": [
    "<a id='eda'></a>\n",
    "## Exploratory Data Analysis\n",
    "\n",
    "Now the data is collected and wrangled, the exploring will start. In this section I will compute descriptive statistics from the data and create visualizations using matplotlib.\n",
    "\n",
    "<a id='statistics'></a>\n",
    "### Statistics\n",
    "\n",
    "First some basic counts. The first cell below contains a function that uses the csv module to iterate through a provided data file, returning the number of trips made by subscribers and customers. The second cell runs this function on the example Bay Area data in the `/examples/` folder. \n",
    "\n",
    "**Questions to answer**:  \n",
    "- Which city has the highest number of trips?   \n",
    "- Which city has the highest proportion of trips made by subscribers?   \n",
    "- Which city has the highest proportion of trips made by short-term customers?  \n",
    "\n",
    "**Answer**:  \n",
    "This is the data I compiled from the data sets for the different towns:\n",
    "  \n",
    "City (subscribers, short term customers, total rides, % subscriber rides, % short term rides)  \n",
    "Washington (51753, 14573, 66326, 78, 21)  \n",
    "Chicago (54982, 17149, 72131, 76, 23)  \n",
    "NYC (245896, 30902, 276798, 88, 11)  \n",
    "\n",
    "NYC has the highest amount of subscriber rides and approximately 4 times as many total rides as the second largest, which is Chicago.\n",
    "88% of the rides in NYC is subscribers which also positions NYC as the town with the highest percentage of registered riders. Washington and Chicago is close to the same level with respectively 78% and 76% of rides being carried out by registered customers. In Chicago 23% of all trips are carried out by short-term customers."
   ]
  },
  {
   "cell_type": "code",
   "execution_count": 8,
   "metadata": {},
   "outputs": [],
   "source": [
    "def number_of_trips(filename, city):\n",
    "    \"\"\"\n",
    "    This function reads in a file with trip data and reports the number of\n",
    "    trips made by subscribers, customers, and total overall.\n",
    "    \"\"\"\n",
    "    with open(filename, 'r') as f_in:\n",
    "        # set up csv reader object\n",
    "        reader = csv.DictReader(f_in)\n",
    "        \n",
    "        # initialize count variables\n",
    "        n_subscribers = 0\n",
    "        n_customers = 0\n",
    "        time_subscribers = 0\n",
    "        time_customers = 0\n",
    "        \n",
    "        # tally up ride types depending on city\n",
    "        for row in reader:\n",
    "            if (city == 'NYC' or city == 'Chicago' or city == 'Bay Area'):\n",
    "                if row['user_type'] == 'Subscriber':\n",
    "                    n_subscribers += 1\n",
    "                    time_subscribers += float(row['duration'])\n",
    "                else:\n",
    "                    n_customers += 1\n",
    "                    time_customers += float(row['duration'])\n",
    "            elif city == 'Washington':\n",
    "                if row['user_type'] == 'Registered':\n",
    "                    n_subscribers += 1\n",
    "                    time_subscribers += float(row['duration'])\n",
    "                else:\n",
    "                    n_customers += 1\n",
    "                    time_customers += float(row['duration'])\n",
    "        \n",
    "        # compute total number of rides\n",
    "        n_total = n_subscribers + n_customers\n",
    "        \n",
    "        # Compute percentages of rides\n",
    "        per_subscribers = n_subscribers/n_total*100\n",
    "        per_short_term = n_customers/n_total*100\n",
    "        \n",
    "        #Compute avg. time for subscribers and customers\n",
    "        avg_customers = time_customers / n_customers\n",
    "        avg_subscribers = time_subscribers / n_subscribers\n",
    "        \n",
    "        # return tallies as a tuple\n",
    "        return(n_subscribers, n_customers, n_total, int(per_subscribers),int(per_short_term), round(avg_customers,2),round(avg_subscribers,2))"
   ]
  },
  {
   "cell_type": "code",
   "execution_count": 9,
   "metadata": {
    "scrolled": true
   },
   "outputs": [
    {
     "name": "stdout",
     "output_type": "stream",
     "text": [
      "City (subscribers, short term customers, total rides, % subscriber rides, % short term rides, avg min customers, avg min subscribers)\n",
      "Bay Area (5666, 633, 6299, 89, 10, 54.55, 9.51)\n",
      "Washington (51753, 14573, 66326, 78, 21, 41.68, 12.53)\n",
      "Chicago (54982, 17149, 72131, 76, 23, 30.98, 12.07)\n",
      "NYC (245896, 30902, 276798, 88, 11, 32.78, 13.68)\n"
     ]
    }
   ],
   "source": [
    "city_info = {'Bay Area': './examples/BayArea-Y3-Summary.csv',\n",
    "             'Washington': './data/Washington-2016-Summary.csv',\n",
    "             'Chicago': './data/Chicago-2016-Summary.csv',\n",
    "             'NYC':'./data/NYC-2016-Summary.csv'}\n",
    "\n",
    "print('City','(subscribers,','short term customers,','total rides,','% subscriber rides,','% short term rides,','avg min customers,','avg min subscribers)')\n",
    "for city in city_info:\n",
    "        print(city, number_of_trips(city_info[city], city))"
   ]
  },
  {
   "cell_type": "markdown",
   "metadata": {},
   "source": [
    "**Question**:  \n",
    "Bike-share systems are designed for riders to take short trips. Most of the time, users are allowed to take trips of 30 minutes or less with no additional charges, with overage charges made for trips of longer than that duration. What is the average trip length for each city? What proportion of rides made in each city are longer than 30 minutes?\n",
    "  \n",
    "**Answer**:  \n",
    "This is the data from the function below:  \n",
    "\n",
    "City  (average time, % above 30min)  \n",
    "Bay Area Test (14.04, 3.52)  \n",
    "Washington (18.93, 10.84)  \n",
    "Chicago (16.56, 8.33)  \n",
    "NYC (15.81, 7.3)  \n",
    "\n",
    "The same data was found in the Bay Area as described in the exercise.\n",
    "The average time in all cities are below 30min as expected from the description above. However, rides over 30 minutes happens as well. Washington was found to have the highest amount of rides above 30 min with 10.84% of all rides taking more than 30 minutes."
   ]
  },
  {
   "cell_type": "code",
   "execution_count": 10,
   "metadata": {
    "scrolled": true
   },
   "outputs": [
    {
     "name": "stdout",
     "output_type": "stream",
     "text": [
      "City  (average time, % above 30min)\n",
      "Bay Area Test (14.04, 3.52)\n",
      "Washington (18.93, 10.84)\n",
      "Chicago (16.56, 8.33)\n",
      "NYC (15.81, 7.3)\n"
     ]
    }
   ],
   "source": [
    "def bike_ride_avg(filename):\n",
    "    \n",
    "    with open(filename, 'r') as f_in:\n",
    "        # set up csv reader object\n",
    "        reader = csv.DictReader(f_in)\n",
    "    \n",
    "        #Initiate counters\n",
    "        rides = 0\n",
    "        rides_over_30 = 0\n",
    "        total_time = 0\n",
    "        \n",
    "        # read ride time and register ride times above 30min\n",
    "        for row in reader:\n",
    "            time = float(row['duration'])\n",
    "            rides += 1\n",
    "            total_time += time\n",
    "            if time > 30:\n",
    "                rides_over_30 += 1\n",
    "            \n",
    "        avg_time = total_time / rides \n",
    "        per_over_30 = rides_over_30 / rides * 100\n",
    "    return round(avg_time,2), round(per_over_30,2)        \n",
    "        \n",
    "city_info = {'Bay Area Test': './examples/BayArea-Y3-Summary.csv',\n",
    "             'Washington': './data/Washington-2016-Summary.csv',\n",
    "             'Chicago': './data/Chicago-2016-Summary.csv',\n",
    "             'NYC':'./data/NYC-2016-Summary.csv'}\n",
    "\n",
    "print('City',' (average time,','% above 30min)')\n",
    "for city in city_info:\n",
    "    print(city, bike_ride_avg(city_info[city]))"
   ]
  },
  {
   "cell_type": "markdown",
   "metadata": {},
   "source": [
    "**Question**:  \n",
    "Dig deeper into the question of trip duration based on ridership. Choose one city. Within that city, which type of user takes longer rides on average: Subscribers or Customers?  \n",
    "  \n",
    "**Answer**:   \n",
    "This table is generated:  \n",
    "City avg customers[min], avg subscribers[min]  \n",
    "Bay Area 54.55 9.51  \n",
    "Washington 41.68 12.53  \n",
    "Chicago 30.98 12.07  \n",
    "NYC 32.78 13.68  \n",
    "  \n",
    "In general for all cities customers takes longer journeys. Looking away from the Bay Area, then Washington is the city with the biggest difference between customers and subscribers."
   ]
  },
  {
   "cell_type": "code",
   "execution_count": 11,
   "metadata": {},
   "outputs": [
    {
     "name": "stdout",
     "output_type": "stream",
     "text": [
      "City avg customers[min], avg subscribers[min]\n",
      "Bay Area 54.55 9.51\n",
      "Washington 41.68 12.53\n",
      "Chicago 30.98 12.07\n",
      "NYC 32.78 13.68\n"
     ]
    }
   ],
   "source": [
    "city_info = {'Bay Area': './examples/BayArea-Y3-Summary.csv',\n",
    "             'Washington': './data/Washington-2016-Summary.csv',\n",
    "             'Chicago': './data/Chicago-2016-Summary.csv',\n",
    "             'NYC':'./data/NYC-2016-Summary.csv'}\n",
    "\n",
    "print('City','avg customers[min],','avg subscribers[min]')\n",
    "for city in city_info:\n",
    "        print(city, number_of_trips(city_info[city], city)[5], number_of_trips(city_info[city], city)[6])"
   ]
  },
  {
   "cell_type": "markdown",
   "metadata": {},
   "source": [
    "<a id='visualizations'></a>\n",
    "### Visualizations\n",
    "\n",
    "The last set of computed values pulled up an interesting result. While the mean trip time for Subscribers is well under 30 minutes, the mean trip time for Customers is actually _above_ 30 minutes! It will be interesting to look at how the trip times are distributed. "
   ]
  },
  {
   "cell_type": "code",
   "execution_count": 12,
   "metadata": {},
   "outputs": [
    {
     "data": {
      "image/png": "[encoded data removed]",
      "text/plain": [
       "<matplotlib.figure.Figure at 0x299243bf518>"
      ]
     },
     "metadata": {},
     "output_type": "display_data"
    }
   ],
   "source": [
    "# load library\n",
    "import matplotlib.pyplot as plt\n",
    "%matplotlib inline \n",
    "\n",
    "# example histogram, data taken from bay area sample\n",
    "data = [ 7.65,  8.92,  7.42,  5.50, 16.17,  4.20,  8.98,  9.62, 11.48, 14.33,\n",
    "        19.02, 21.53,  3.90,  7.97,  2.62,  2.67,  3.08, 14.40, 12.90,  7.83,\n",
    "        25.12,  8.30,  4.93, 12.43, 10.60,  6.17, 10.88,  4.78, 15.15,  3.53,\n",
    "         9.43, 13.32, 11.72,  9.85,  5.22, 15.10,  3.95,  3.17,  8.78,  1.88,\n",
    "         4.55, 12.68, 12.38,  9.78,  7.63,  6.45, 17.38, 11.90, 11.52,  8.63,]\n",
    "plt.hist(data)\n",
    "plt.title('Distribution of Trip Durations')\n",
    "plt.xlabel('Duration (m)')\n",
    "plt.show()"
   ]
  },
  {
   "cell_type": "markdown",
   "metadata": {},
   "source": [
    "In the above cell, fifty trip times are collected in a list, and passed this list as the first argument to the `.hist()` function. This function performs the computations and creates plotting objects for generating a histogram, but the plot is actually not rendered until the `.show()` function is executed. The `.title()` and `.xlabel()` functions provide some labeling for plot context.\n",
    "  \n",
    "These functions will be used to create a histogram of the trip times for Washington. "
   ]
  },
  {
   "cell_type": "code",
   "execution_count": 13,
   "metadata": {},
   "outputs": [
    {
     "data": {
      "image/png": "[encoded data removed]",
      "text/plain": [
       "<matplotlib.figure.Figure at 0x29923e60080>"
      ]
     },
     "metadata": {},
     "output_type": "display_data"
    }
   ],
   "source": [
    "## Use this and additional cells to collect all of the trip times as a list ##\n",
    "## and then use pyplot functions to generate a histogram of trip times.     ##\n",
    "# load library\n",
    "import matplotlib.pyplot as plt\n",
    "%matplotlib inline \n",
    "\n",
    "#reading histogram data from Washington\n",
    "data = []\n",
    "filename ='./data/Washington-2016-Summary.csv'\n",
    "f_in = open(filename,'r')\n",
    "reader = csv.DictReader(f_in)\n",
    "for row in reader:\n",
    "    data.append(float(row['duration']))\n",
    "    \n",
    "plt.hist(data)\n",
    "plt.title('Distribution of Trip Durations')\n",
    "plt.xlabel('Duration (m)')\n",
    "plt.show()\n"
   ]
  },
  {
   "cell_type": "markdown",
   "metadata": {},
   "source": [
    "This plot suggests that there are some highly infrequent outliers in the data. Instead of reprocessing the data, some additional parameters will be used with the `.hist()` function to limit the range of data that is plotted. Documentation for the function can be found [[here]](https://matplotlib.org/devdocs/api/_as_gen/matplotlib.pyplot.hist.html#matplotlib.pyplot.hist).\n",
    "\n",
    "**Question**:  \n",
    "Use the parameters of the `.hist()` function to plot the distribution of trip times for the Subscribers in Washington. Do the same thing for only the Customers. Add limits to the plots so that only trips of duration less than 75 minutes are plotted. As a bonus, set the plots up so that bars are in five-minute wide intervals. For each group, where is the peak of each distribution? How would you describe the shape of each distribution?\n",
    "   \n",
    "**Answer**:  \n",
    "Customers:  \n",
    "The histogram is unimodal when plotting the duration for customers with a peak at 15-20min and the major part of trips takes between 5-35min. The plot shows a long tail, which means a lof of customers also take quite long rides. \n",
    "The histogram shows some non-symmetric bimodal tendencies, as the duration has a small increase again at 55-60min.\n",
    "  \n",
    "Subscribers:  \n",
    "The histogram is unimodal when plotting the duration for subscribers with a peak at 5-10min and the major part of trips takes between 0-20min. After 20min the graph seems to flatten out much faster than for the customers.  \n",
    "  \n",
    "Overall, it seems that customers have a bigger variety in the duration but another part to take into account is the big difference in trips. Approximately 2000 customers have taken a ride between 15-20min whereas approximately 17500 subscribers have taken a ride between 5-10min. It seems that the customers have a larger spread in the data.\n",
    "\n",
    "In fact, the subscribers also take long rides but compared to the big amount of short rides you can barely see it on the plot.\n",
    "Both histogram's shows a positive skew as the right tail is longer and the mass of the distribution is concentrated on the left side of the histogram. "
   ]
  },
  {
   "cell_type": "code",
   "execution_count": 14,
   "metadata": {},
   "outputs": [
    {
     "data": {
      "image/png": "[encoded data removed]",
      "text/plain": [
       "<matplotlib.figure.Figure at 0x29923e4f908>"
      ]
     },
     "metadata": {},
     "output_type": "display_data"
    },
    {
     "data": {
      "image/png": "[encoded data removed]",
      "text/plain": [
       "<matplotlib.figure.Figure at 0x2992572ccc0>"
      ]
     },
     "metadata": {},
     "output_type": "display_data"
    }
   ],
   "source": [
    "# load library\n",
    "import matplotlib.pyplot as plt\n",
    "%matplotlib inline \n",
    "\n",
    "#reading histogram data from Washington\n",
    "filename ='./data/Washington-2016-Summary.csv'\n",
    "f_in = open(filename,'r')\n",
    "reader = csv.DictReader(f_in)\n",
    "#Splitting durations into subscribers and customers\n",
    "data_subs = []\n",
    "data_cust = []\n",
    "for row in reader:\n",
    "    if row['user_type'] == 'Registered':\n",
    "        data_subs.append(float(row['duration']))\n",
    "    else:\n",
    "        data_cust.append(float(row['duration']))\n",
    "\n",
    "#Plotting customers\n",
    "plt.hist(data_cust,range=(0,75), bins = 15)\n",
    "plt.title('Distribution of Trip Durations - customers')\n",
    "plt.xlabel('Duration (m)')\n",
    "plt.show()\n",
    "\n",
    "#Plotting subscribers\n",
    "plt.hist(data_subs,range=(0,75), bins = 15)\n",
    "plt.title('Distribution of Trip Durations - subscribers')\n",
    "plt.xlabel('Duration (m)')\n",
    "plt.show()"
   ]
  },
  {
   "cell_type": "markdown",
   "metadata": {
    "collapsed": true
   },
   "source": [
    "<a id='eda_continued'></a>\n",
    "## Further Analysis\n",
    "\n",
    "So far an initial exploration into the data available has been conducted. I have compared the relative volume of trips made between three U.S. cities and the ratio of trips made by Subscribers and Customers. For Washington, I have investigated differences between Subscribers and Customers in terms of how long a typical trip lasts. Here are some new questions to explore:  \n",
    "  \n",
    "- How does ridership differ by month or season? Which month / season has the highest ridership? Does the ratio of Subscriber trips to Customer trips change depending on the month or season?\n",
    "- Is the pattern of ridership different on the weekends versus weekdays? On what days are Subscribers most likely to use the system? What about Customers? Does the average duration of rides change depending on the day of the week?\n",
    "- During what time of day is the system used the most? Is there a difference in usage patterns for Subscribers and Customers?\n",
    "\n",
    "**Question**:  \n",
    "Continue the investigation by exploring another question that could be answered by the data available. Document the question to be explored below. The investigation should involve at least two variables and should compare at least two groups. Also include at least one visualization as part of the explorations.  \n",
    "  \n",
    "**Answer**:   \n",
    "I have investigated the following:  \n",
    "Is the pattern of ridership different on the weekends versus weekdays? On what days are Subscribers most likely to use the system? What about Customers? Does the average duration of rides change depending on the day of the week?  \n",
    "  \n",
    "For all 3 cities there are plots further below showing the average amount of rides on a weekday compared to a day in the weekend. Generally for all cities, there is a larger amount of rides on an average weekday than a day in the weekend.\n",
    "\n",
    "**Washington**  \n",
    "For Washington the day of most subscriber rides is: Wednesday  \n",
    "For Washington the day of most customer rides is: Monday   \n",
    "  \n",
    "Table of average riding time  \n",
    "Mon Tue Wed Thu Fri Sat Sun  \n",
    "17.56, 16.69, 16.29, 16.69, 17.93, 24.81, 23.97 [min]  \n",
    "For Washington the day with longest rides is Saturday and the day with the shortest rides is Wednesday  \n",
    "  \n",
    "**Chicago**  \n",
    "For Chicago the day of most subscriber rides is: Tuesday  \n",
    "For Chicago the day of most customer rides is: Sunday  \n",
    "  \n",
    "Table of average riding time  \n",
    "Mon Tue Wed Thu Fri Sat Sun  \n",
    "16.12, 14.3, 14.46, 13.93, 15.58, 20.63, 21.38 [min]  \n",
    "For Chicago the day with longest rides is Sunday and the day with the shortest rides is Thursday  \n",
    "  \n",
    "**NYC**  \n",
    "For NYC the day of most subscriber rides is: Wednesday  \n",
    "For NYC the day of most customer rides is: Saturday  \n",
    "  \n",
    "Table of average riding time  \n",
    "Mon Tue Wed Thu Fri Sat Sun  \n",
    "15.08, 14.3, 14.64, 14.55, 16.02, 18.8, 18.79 [min]  \n",
    "For NYC the day with longest rides is Saturday and the day with the shortest rides is Tuesday  "
   ]
  },
  {
   "cell_type": "code",
   "execution_count": 15,
   "metadata": {
    "scrolled": false
   },
   "outputs": [
    {
     "data": {
      "image/png": "[encoded data removed]",
      "text/plain": [
       "<matplotlib.figure.Figure at 0x2992573dd30>"
      ]
     },
     "metadata": {},
     "output_type": "display_data"
    },
    {
     "data": {
      "image/png": "[encoded data removed]",
      "text/plain": [
       "<matplotlib.figure.Figure at 0x299288340b8>"
      ]
     },
     "metadata": {},
     "output_type": "display_data"
    },
    {
     "data": {
      "image/png": "[encoded data removed]",
      "text/plain": [
       "<matplotlib.figure.Figure at 0x29928cc2c18>"
      ]
     },
     "metadata": {},
     "output_type": "display_data"
    },
    {
     "data": {
      "image/png": "[encoded data removed]",
      "text/plain": [
       "<matplotlib.figure.Figure at 0x29928d39a20>"
      ]
     },
     "metadata": {},
     "output_type": "display_data"
    },
    {
     "data": {
      "image/png": "[encoded data removed]",
      "text/plain": [
       "<matplotlib.figure.Figure at 0x2992888b4e0>"
      ]
     },
     "metadata": {},
     "output_type": "display_data"
    },
    {
     "data": {
      "image/png": "[encoded data removed]",
      "text/plain": [
       "<matplotlib.figure.Figure at 0x299288e6470>"
      ]
     },
     "metadata": {},
     "output_type": "display_data"
    }
   ],
   "source": [
    "import plotly.plotly as py\n",
    "\n",
    "def count_week_days(list):\n",
    "    mon, tue, wed, thu, fri, sat, sun = 0,0,0,0,0,0,0\n",
    "    for row in list:\n",
    "        if row == 'Monday':\n",
    "            mon += 1\n",
    "        elif row == 'Tuesday':\n",
    "            tue += 1\n",
    "        elif row == 'Wednesday':\n",
    "            wed += 1\n",
    "        elif row == 'Thursday':\n",
    "            thu += 1\n",
    "        elif row == 'Friday':\n",
    "            fri += 1\n",
    "        elif row == 'Saturday':\n",
    "            sat += 1\n",
    "        elif row == 'Sunday':\n",
    "            sun += 1\n",
    "\n",
    "    return (mon,tue,wed,thu,fri,sat,sun)\n",
    "\n",
    "def plot_week_vs_end(filename, city):\n",
    "    #reading specified filename\n",
    "    f_in = open(filename,'r')\n",
    "    reader = csv.DictReader(f_in)\n",
    "    \n",
    "    #Reading weekday or weekend\n",
    "    count_week = 0\n",
    "    count_day = 0\n",
    "    for row in reader:\n",
    "        if (row['day_of_week'] == 'Monday' or row['day_of_week'] == 'Tuesday' or \n",
    "            row['day_of_week'] == 'Wednesday' or row['day_of_week'] == 'Thursday' \n",
    "            or row['day_of_week'] == 'Friday'):\n",
    "            count_day += 1\n",
    "        elif (row['day_of_week'] == 'Saturday' or row['day_of_week'] == 'Sunday'):\n",
    "            count_week += 1\n",
    "    # Plotting weekday numbers vs weekend numbers\n",
    "    x = ['Weekday','Weekend']\n",
    "    y = [count_day/5, count_week/2]\n",
    "    plt.bar(x,y)\n",
    "    plt.xlabel('Trip per day, either mon-fri or sat-sun')\n",
    "    plt.title('Distribution of Trips {0}'.format(city))\n",
    "    plt.show()\n",
    "\n",
    "def sub_days(filename, city):\n",
    "    #reading specified filename    \n",
    "    with open(filename, 'r') as f_in:\n",
    "        # set up csv reader object\n",
    "        reader = csv.DictReader(f_in)\n",
    "        \n",
    "        # initialize count variables\n",
    "        days = []\n",
    "        \n",
    "        # Finding max ridership day for subscribers\n",
    "        for row in reader:\n",
    "            if (city == 'NYC' or city == 'Chicago' or city == 'Bay Area'):\n",
    "                if row['user_type'] == 'Subscriber':\n",
    "                    days.append(row['day_of_week'])\n",
    "            elif city == 'Washington':\n",
    "                if row['user_type'] == 'Registered':\n",
    "                    days.append(row['day_of_week'])\n",
    "    days_count = count_week_days(days)\n",
    "    maxPos = days_count.index(max(days_count))\n",
    "    dateArray = ['Mon','Tue','Wed','Thu','Fri','Sat','Sun']\n",
    "    return print('For', city,'the day of most subscriber rides is:', dateArray[maxPos])\n",
    "\n",
    "def cust_days(filename, city):\n",
    "    #reading specified filename    \n",
    "    with open(filename, 'r') as f_in:\n",
    "        # set up csv reader object\n",
    "        reader = csv.DictReader(f_in)\n",
    "        \n",
    "        # initialize count variables\n",
    "        days = []\n",
    "        \n",
    "        # Finding max ridership day for subscribers\n",
    "        for row in reader:\n",
    "            if row['user_type'] == 'Customer':\n",
    "                    days.append(row['day_of_week'])\n",
    "    days_count = count_week_days(days)\n",
    "    maxPos = days_count.index(max(days_count))\n",
    "    dateArray = ['Mon','Tue','Wed','Thu','Fri','Sat','Sun']\n",
    "    return print('For', city,'the day of most customer rides is:', dateArray[maxPos])\n",
    "\n",
    "def ride_time_days(filename,city):\n",
    "     #reading specified filename    \n",
    "    with open(filename, 'r') as f_in:\n",
    "        # set up csv reader object\n",
    "        reader = csv.DictReader(f_in)\n",
    "        \n",
    "        # initialize count variables\n",
    "        count_mon, count_tue, count_wed, count_thu, count_fri,count_sat,count_sun = 0,0,0,0,0,0,0\n",
    "        time_mon,time_tue,time_wed,time_thu,time_fri,time_sat,time_sun = 0,0,0,0,0,0,0\n",
    "        \n",
    "        # Counting riding time on each day\n",
    "        for row in reader:\n",
    "            if row['day_of_week'] == 'Monday':\n",
    "                count_mon += 1\n",
    "                time_mon += float(row['duration'])\n",
    "            elif row['day_of_week'] == 'Tuesday':\n",
    "                count_tue += 1\n",
    "                time_tue += float(row['duration'])\n",
    "            elif row['day_of_week'] == 'Wednesday':\n",
    "                count_wed += 1\n",
    "                time_wed += float(row['duration'])\n",
    "            elif row['day_of_week'] == 'Thursday':\n",
    "                count_thu += 1\n",
    "                time_thu += float(row['duration'])\n",
    "            elif row['day_of_week'] == 'Friday':\n",
    "                count_fri += 1\n",
    "                time_fri += float(row['duration'])\n",
    "            elif row['day_of_week'] == 'Saturday':\n",
    "                count_sat += 1\n",
    "                time_sat += float(row['duration'])\n",
    "            elif row['day_of_week'] == 'Sunday':\n",
    "                count_sun += 1\n",
    "                time_sun += float(row['duration'])\n",
    "    #Computing avg time on each day\n",
    "    #avg_mon,avg_tue,avg_wed,avg_thu,avg_fri,avg_sat,avg_sun\n",
    "    ride_time = [round(time_mon/count_mon,2), round(time_tue/count_tue,2),\n",
    "        round(time_wed / count_wed,2), round(time_thu/count_thu,2), round(time_fri/count_fri,2), round(time_sat/count_sat,2), \n",
    "                 round(time_sun/count_sun,2)]\n",
    "\n",
    "    print('Average riding time')\n",
    "    print('Mon','Tue','Wed','Thu','Fri','Sat','Sun')\n",
    "    print (ride_time)\n",
    "    maxPos = ride_time.index(max(ride_time))\n",
    "    minPos = ride_time.index(min(ride_time))\n",
    "    dateArray = ['Mon','Tue','Wed','Thu','Fri','Sat','Sun']\n",
    "    return print('For', city,'the day with longest rides is', dateArray[maxPos], 'and the day with the shortest rides is', dateArray[minPos])\n",
    "\n",
    "def test_stolen_function(filename,city):\n",
    "    import pandas as pd\n",
    "    import seaborn as sns\n",
    "\n",
    "    dc = pd.read_csv(filename)\n",
    "    sns.countplot(x='day_of_week',data=dc,\n",
    "             order=['Monday','Tuesday','Wednesday','Thursday','Friday','Saturday','Sunday'],\n",
    "             hue='user_type', palette='Greens_d')\n",
    "    plt.title(city)\n",
    "    plt.show()\n",
    "    \n",
    "    \n",
    "city_info = {'Washington': './data/Washington-2016-Summary.csv',\n",
    "             'Chicago': './data/Chicago-2016-Summary.csv',\n",
    "             'NYC':'./data/NYC-2016-Summary.csv'}\n",
    "for city in city_info:\n",
    "    #sub_days(city_info[city], city)\n",
    "    #cust_days(city_info[city], city)\n",
    "    #ride_time_days(city_info[city], city)\n",
    "    plot_week_vs_end(city_info[city], city)\n",
    "    test_stolen_function(city_info[city], city)\n",
    "    "
   ]
  },
  {
   "cell_type": "markdown",
   "metadata": {},
   "source": [
    "<a id='conclusions'></a>\n",
    "## Conclusions\n",
    "\n",
    "This project goes through the data analysis process from generating questions, wrangling the data, and to exploring the data. At this point further analysis could be carried out. For example, detailed location data has not been investigated. Where are the most commonly used docks? What are the most common routes? As another example, weather has potential to have a large impact on daily ridership. How much is ridership impacted when there is rain or snow? Are subscribers or customers affected more by changes in weather?  "
   ]
  },
  {
   "cell_type": "code",
   "execution_count": 16,
   "metadata": {},
   "outputs": [
    {
     "data": {
      "text/plain": [
       "0"
      ]
     },
     "execution_count": 16,
     "metadata": {},
     "output_type": "execute_result"
    }
   ],
   "source": [
    "from subprocess import call\n",
    "call(['python', '-m', 'nbconvert', 'Bike_Share_Analysis.ipynb'])"
   ]
  },
  {
   "cell_type": "code",
   "execution_count": null,
   "metadata": {},
   "outputs": [],
   "source": []
  }
 ],
 "metadata": {
  "anaconda-cloud": {},
  "kernelspec": {
   "display_name": "Python [default]",
   "language": "python",
   "name": "python3"
  },
  "language_info": {
   "codemirror_mode": {
    "name": "ipython",
    "version": 3
   },
   "file_extension": ".py",
   "mimetype": "text/x-python",
   "name": "python",
   "nbconvert_exporter": "python",
   "pygments_lexer": "ipython3",
   "version": "3.6.3"
  }
 },
 "nbformat": 4,
 "nbformat_minor": 1
}
